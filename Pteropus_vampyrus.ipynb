{
 "cells": [
  {
   "cell_type": "markdown",
   "metadata": {},
   "source": [
    "# Kaloň malajský"
   ]
  },
  {
   "cell_type": "markdown",
   "metadata": {},
   "source": [
    "![alt text](./Fruit_bat.png)"
   ]
  },
  {
   "cell_type": "markdown",
   "metadata": {},
   "source": [
    "Kaloň malajský (Pteropus vampyrus) z řádu letounů se s váhou až 1,6 kg a rozpětím křídel až 1,7 m řadí na první pozici ze všech aktivně létajících savců. Černorezavě zbarvený kaloň, kterému je také přezdíváno létající liška, je rozšířen zejména v tropických oblastech jihovýchodní Asie, Austrálie, Thajska a přilehlých ostrovů, kde v mnohdy velmi početné kolonii žije svůj noční život. \n",
    "\n",
    "Na rozdíl od jiných druhů letounů je kaloň malajský býložravý a jeho jídelníček je tvořen převážně květy a tropickým ovocem, k čemuž je také náležitě přizpůsoben. Oproti jiným, hmyzožravým netopýrům postrádá schopnost echolokace, naproti tomu však vyniká velmi dobrým zrakem a čichem. \n",
    "V době rozmnožování si samci vytváří malé harémy samic, které ochraňují a následně se s nimi páří. Samice rodí většinou je jedno mládě o váze přibližně 133 g, o které se starají po dobu dvou až tří měsíců. \n"
   ]
  },
  {
   "cell_type": "markdown",
   "metadata": {},
   "source": [
    "Genom kaloně malajského byl sekvencován v rámci Mammalian Genome projekt (NIH) roku 2008, v rámci něhož bylo vybráno celkem 24 druhů savců tak, aby bylo dosaženo co největší rozmanitosti druhů a délky větve v rámci fylogenetického stromu. \n",
    "Genom o celkové velikosti přibližně 1,84 Gb obsahuje až 16 999 kódujících genů a 4171 nekódujících genů. Celkový počet transkriptů je 22 257. Geny kaloně jsou rozloženy na celkem 18 párech autosomů a 1 páru gonosomů. \n"
   ]
  },
  {
   "cell_type": "code",
   "execution_count": 212,
   "metadata": {
    "collapsed": false
   },
   "outputs": [],
   "source": [
    "import pandas \n",
    "import matplotlib\n",
    "import matplotlib.pyplot\n",
    "import inspect\n",
    "import numpy\n",
    "import pylab"
   ]
  },
  {
   "cell_type": "code",
   "execution_count": 22,
   "metadata": {
    "collapsed": false
   },
   "outputs": [],
   "source": [
    "!cat Pteropus_vampyrus.pteVam1.86.gtf | grep -E \"\\s+gene\\s+\" > Pteropus_vampyrus.pteVam1.86_gene.gtf"
   ]
  },
  {
   "cell_type": "code",
   "execution_count": 23,
   "metadata": {
    "collapsed": true
   },
   "outputs": [],
   "source": [
    "!cat Pteropus_vampyrus.pteVam1.86.gtf | grep -E \"\\s+transcript\\s+\" > Pteropus_vampyrus.pteVam1.86_transcript.gtf"
   ]
  },
  {
   "cell_type": "code",
   "execution_count": 27,
   "metadata": {
    "collapsed": false
   },
   "outputs": [],
   "source": [
    "gene=pandas.read_table('Pteropus_vampyrus.pteVam1.86_gene.gtf' , header = None)"
   ]
  },
  {
   "cell_type": "code",
   "execution_count": 28,
   "metadata": {
    "collapsed": true
   },
   "outputs": [],
   "source": [
    "transcript=pandas.read_table('Pteropus_vampyrus.pteVam1.86_transcript.gtf' , header = None)"
   ]
  },
  {
   "cell_type": "code",
   "execution_count": 29,
   "metadata": {
    "collapsed": true
   },
   "outputs": [],
   "source": [
    "gene.columns = [\"seqname\", \"source\", \"feature\", \"start\", \"end\", \"score\", \"strand\", \"frame\", \"attribute\"]\n",
    "transcript.columns = [\"seqname\", \"source\", \"feature\", \"start\", \"end\", \"score\", \"strand\", \"frame\", \"attribute\"]"
   ]
  },
  {
   "cell_type": "code",
   "execution_count": 32,
   "metadata": {
    "collapsed": false
   },
   "outputs": [],
   "source": [
    "def parse_attributes(attributes_str):\n",
    "    ONLY_ATTRIBUTES = set([\"gene_id\", \n",
    "                          \"transcript_id\",\n",
    "                          \"gene_name\",\n",
    "                          \"gene_biotype\",\n",
    "                          \"transcript_name\",\n",
    "                          \"transcript_biotype\"])\n",
    "    \n",
    "    out = {}\n",
    "    \n",
    "    for pair in attributes_str.split(\";\"):\n",
    "        if pair.strip() == \"\":\n",
    "            continue\n",
    "        m = re.match(r\"^\\s*(.+) \\\"(.+)\\\"$\", pair)\n",
    "        \n",
    "        if m.group(1) in ONLY_ATTRIBUTES:\n",
    "            out[m.group(1)] = m.group(2)\n",
    "\n",
    "    return out "
   ]
  },
  {
   "cell_type": "code",
   "execution_count": 38,
   "metadata": {
    "collapsed": false
   },
   "outputs": [],
   "source": [
    "def split_attribute_column(df):\n",
    "    attributes_columns = df.attribute.apply(parse_attributes).apply(pandas.Series)\n",
    "    return pandas.concat([df.drop([\"attribute\"], axis=1),\n",
    "                      attributes_columns],\n",
    "                     axis=1)\n",
    "\n",
    "gene = split_attribute_column(gene)\n",
    "transcript = split_attribute_column(transcript)"
   ]
  },
  {
   "cell_type": "code",
   "execution_count": 41,
   "metadata": {
    "collapsed": false
   },
   "outputs": [
    {
     "data": {
      "text/html": [
       "<div>\n",
       "<table border=\"1\" class=\"dataframe\">\n",
       "  <thead>\n",
       "    <tr style=\"text-align: right;\">\n",
       "      <th></th>\n",
       "      <th>seqname</th>\n",
       "      <th>source</th>\n",
       "      <th>feature</th>\n",
       "      <th>start</th>\n",
       "      <th>end</th>\n",
       "      <th>score</th>\n",
       "      <th>strand</th>\n",
       "      <th>frame</th>\n",
       "      <th>gene_biotype</th>\n",
       "      <th>gene_id</th>\n",
       "      <th>gene_name</th>\n",
       "    </tr>\n",
       "  </thead>\n",
       "  <tbody>\n",
       "    <tr>\n",
       "      <th>0</th>\n",
       "      <td>GeneScaffold_506</td>\n",
       "      <td>ensembl</td>\n",
       "      <td>gene</td>\n",
       "      <td>17334</td>\n",
       "      <td>227368</td>\n",
       "      <td>.</td>\n",
       "      <td>-</td>\n",
       "      <td>.</td>\n",
       "      <td>protein_coding</td>\n",
       "      <td>ENSPVAG00000001290</td>\n",
       "      <td>TASP1</td>\n",
       "    </tr>\n",
       "    <tr>\n",
       "      <th>1</th>\n",
       "      <td>GeneScaffold_506</td>\n",
       "      <td>ensembl</td>\n",
       "      <td>gene</td>\n",
       "      <td>287027</td>\n",
       "      <td>340620</td>\n",
       "      <td>.</td>\n",
       "      <td>-</td>\n",
       "      <td>.</td>\n",
       "      <td>protein_coding</td>\n",
       "      <td>ENSPVAG00000001295</td>\n",
       "      <td>ESF1</td>\n",
       "    </tr>\n",
       "    <tr>\n",
       "      <th>2</th>\n",
       "      <td>GeneScaffold_506</td>\n",
       "      <td>ensembl</td>\n",
       "      <td>gene</td>\n",
       "      <td>342642</td>\n",
       "      <td>368918</td>\n",
       "      <td>.</td>\n",
       "      <td>+</td>\n",
       "      <td>.</td>\n",
       "      <td>protein_coding</td>\n",
       "      <td>ENSPVAG00000001297</td>\n",
       "      <td>NDUFAF5</td>\n",
       "    </tr>\n",
       "    <tr>\n",
       "      <th>3</th>\n",
       "      <td>GeneScaffold_506</td>\n",
       "      <td>ensembl</td>\n",
       "      <td>gene</td>\n",
       "      <td>387362</td>\n",
       "      <td>497116</td>\n",
       "      <td>.</td>\n",
       "      <td>-</td>\n",
       "      <td>.</td>\n",
       "      <td>protein_coding</td>\n",
       "      <td>ENSPVAG00000001300</td>\n",
       "      <td>SEL1L2</td>\n",
       "    </tr>\n",
       "    <tr>\n",
       "      <th>4</th>\n",
       "      <td>GeneScaffold_506</td>\n",
       "      <td>ensembl</td>\n",
       "      <td>gene</td>\n",
       "      <td>504253</td>\n",
       "      <td>1733319</td>\n",
       "      <td>.</td>\n",
       "      <td>+</td>\n",
       "      <td>.</td>\n",
       "      <td>protein_coding</td>\n",
       "      <td>ENSPVAG00000001303</td>\n",
       "      <td>MACROD2</td>\n",
       "    </tr>\n",
       "  </tbody>\n",
       "</table>\n",
       "</div>"
      ],
      "text/plain": [
       "            seqname   source feature   start      end score strand frame  \\\n",
       "0  GeneScaffold_506  ensembl    gene   17334   227368     .      -     .   \n",
       "1  GeneScaffold_506  ensembl    gene  287027   340620     .      -     .   \n",
       "2  GeneScaffold_506  ensembl    gene  342642   368918     .      +     .   \n",
       "3  GeneScaffold_506  ensembl    gene  387362   497116     .      -     .   \n",
       "4  GeneScaffold_506  ensembl    gene  504253  1733319     .      +     .   \n",
       "\n",
       "     gene_biotype             gene_id gene_name  \n",
       "0  protein_coding  ENSPVAG00000001290     TASP1  \n",
       "1  protein_coding  ENSPVAG00000001295      ESF1  \n",
       "2  protein_coding  ENSPVAG00000001297   NDUFAF5  \n",
       "3  protein_coding  ENSPVAG00000001300    SEL1L2  \n",
       "4  protein_coding  ENSPVAG00000001303   MACROD2  "
      ]
     },
     "execution_count": 41,
     "metadata": {},
     "output_type": "execute_result"
    }
   ],
   "source": [
    "gene.head()"
   ]
  },
  {
   "cell_type": "code",
   "execution_count": 42,
   "metadata": {
    "collapsed": false
   },
   "outputs": [
    {
     "data": {
      "text/html": [
       "<div>\n",
       "<table border=\"1\" class=\"dataframe\">\n",
       "  <thead>\n",
       "    <tr style=\"text-align: right;\">\n",
       "      <th></th>\n",
       "      <th>seqname</th>\n",
       "      <th>source</th>\n",
       "      <th>feature</th>\n",
       "      <th>start</th>\n",
       "      <th>end</th>\n",
       "      <th>score</th>\n",
       "      <th>strand</th>\n",
       "      <th>frame</th>\n",
       "      <th>gene_biotype</th>\n",
       "      <th>gene_id</th>\n",
       "      <th>gene_name</th>\n",
       "      <th>transcript_biotype</th>\n",
       "      <th>transcript_id</th>\n",
       "      <th>transcript_name</th>\n",
       "    </tr>\n",
       "  </thead>\n",
       "  <tbody>\n",
       "    <tr>\n",
       "      <th>0</th>\n",
       "      <td>GeneScaffold_506</td>\n",
       "      <td>ensembl</td>\n",
       "      <td>transcript</td>\n",
       "      <td>17334</td>\n",
       "      <td>227368</td>\n",
       "      <td>.</td>\n",
       "      <td>-</td>\n",
       "      <td>.</td>\n",
       "      <td>protein_coding</td>\n",
       "      <td>ENSPVAG00000001290</td>\n",
       "      <td>TASP1</td>\n",
       "      <td>protein_coding</td>\n",
       "      <td>ENSPVAT00000001292</td>\n",
       "      <td>TASP1-201</td>\n",
       "    </tr>\n",
       "    <tr>\n",
       "      <th>1</th>\n",
       "      <td>GeneScaffold_506</td>\n",
       "      <td>ensembl</td>\n",
       "      <td>transcript</td>\n",
       "      <td>287027</td>\n",
       "      <td>340620</td>\n",
       "      <td>.</td>\n",
       "      <td>-</td>\n",
       "      <td>.</td>\n",
       "      <td>protein_coding</td>\n",
       "      <td>ENSPVAG00000001295</td>\n",
       "      <td>ESF1</td>\n",
       "      <td>protein_coding</td>\n",
       "      <td>ENSPVAT00000001294</td>\n",
       "      <td>ESF1-201</td>\n",
       "    </tr>\n",
       "    <tr>\n",
       "      <th>2</th>\n",
       "      <td>GeneScaffold_506</td>\n",
       "      <td>ensembl</td>\n",
       "      <td>transcript</td>\n",
       "      <td>342642</td>\n",
       "      <td>368918</td>\n",
       "      <td>.</td>\n",
       "      <td>+</td>\n",
       "      <td>.</td>\n",
       "      <td>protein_coding</td>\n",
       "      <td>ENSPVAG00000001297</td>\n",
       "      <td>NDUFAF5</td>\n",
       "      <td>protein_coding</td>\n",
       "      <td>ENSPVAT00000001298</td>\n",
       "      <td>NDUFAF5-201</td>\n",
       "    </tr>\n",
       "    <tr>\n",
       "      <th>3</th>\n",
       "      <td>GeneScaffold_506</td>\n",
       "      <td>ensembl</td>\n",
       "      <td>transcript</td>\n",
       "      <td>387362</td>\n",
       "      <td>497116</td>\n",
       "      <td>.</td>\n",
       "      <td>-</td>\n",
       "      <td>.</td>\n",
       "      <td>protein_coding</td>\n",
       "      <td>ENSPVAG00000001300</td>\n",
       "      <td>SEL1L2</td>\n",
       "      <td>protein_coding</td>\n",
       "      <td>ENSPVAT00000001301</td>\n",
       "      <td>SEL1L2-201</td>\n",
       "    </tr>\n",
       "    <tr>\n",
       "      <th>4</th>\n",
       "      <td>GeneScaffold_506</td>\n",
       "      <td>ensembl</td>\n",
       "      <td>transcript</td>\n",
       "      <td>504253</td>\n",
       "      <td>1733319</td>\n",
       "      <td>.</td>\n",
       "      <td>+</td>\n",
       "      <td>.</td>\n",
       "      <td>protein_coding</td>\n",
       "      <td>ENSPVAG00000001303</td>\n",
       "      <td>MACROD2</td>\n",
       "      <td>protein_coding</td>\n",
       "      <td>ENSPVAT00000001303</td>\n",
       "      <td>MACROD2-201</td>\n",
       "    </tr>\n",
       "  </tbody>\n",
       "</table>\n",
       "</div>"
      ],
      "text/plain": [
       "            seqname   source     feature   start      end score strand frame  \\\n",
       "0  GeneScaffold_506  ensembl  transcript   17334   227368     .      -     .   \n",
       "1  GeneScaffold_506  ensembl  transcript  287027   340620     .      -     .   \n",
       "2  GeneScaffold_506  ensembl  transcript  342642   368918     .      +     .   \n",
       "3  GeneScaffold_506  ensembl  transcript  387362   497116     .      -     .   \n",
       "4  GeneScaffold_506  ensembl  transcript  504253  1733319     .      +     .   \n",
       "\n",
       "     gene_biotype             gene_id gene_name transcript_biotype  \\\n",
       "0  protein_coding  ENSPVAG00000001290     TASP1     protein_coding   \n",
       "1  protein_coding  ENSPVAG00000001295      ESF1     protein_coding   \n",
       "2  protein_coding  ENSPVAG00000001297   NDUFAF5     protein_coding   \n",
       "3  protein_coding  ENSPVAG00000001300    SEL1L2     protein_coding   \n",
       "4  protein_coding  ENSPVAG00000001303   MACROD2     protein_coding   \n",
       "\n",
       "        transcript_id transcript_name  \n",
       "0  ENSPVAT00000001292       TASP1-201  \n",
       "1  ENSPVAT00000001294        ESF1-201  \n",
       "2  ENSPVAT00000001298     NDUFAF5-201  \n",
       "3  ENSPVAT00000001301      SEL1L2-201  \n",
       "4  ENSPVAT00000001303     MACROD2-201  "
      ]
     },
     "execution_count": 42,
     "metadata": {},
     "output_type": "execute_result"
    }
   ],
   "source": [
    "transcript.head()"
   ]
  },
  {
   "cell_type": "markdown",
   "metadata": {},
   "source": [
    "### 1) Celkový počet genů"
   ]
  },
  {
   "cell_type": "code",
   "execution_count": 101,
   "metadata": {
    "collapsed": false,
    "scrolled": false
   },
   "outputs": [
    {
     "name": "stdout",
     "output_type": "stream",
     "text": [
      "Celkový počet unikátních genů je 22194, což je více než předpokládaný součet kódujících a nekódujících genů.\n"
     ]
    }
   ],
   "source": [
    "print('Celkový počet unikátních genů je ', len(gene), ', což je více než předpokládaný součet kódujících a nekódujících genů.', sep='')\n"
   ]
  },
  {
   "cell_type": "markdown",
   "metadata": {},
   "source": [
    "### 2) Délka genů"
   ]
  },
  {
   "cell_type": "code",
   "execution_count": 62,
   "metadata": {
    "collapsed": true
   },
   "outputs": [],
   "source": [
    "gene[\"gene_len\"] = gene[\"end\"] - gene[\"start\"]"
   ]
  },
  {
   "cell_type": "code",
   "execution_count": 64,
   "metadata": {
    "collapsed": false,
    "scrolled": true
   },
   "outputs": [
    {
     "data": {
      "text/html": [
       "<div>\n",
       "<table border=\"1\" class=\"dataframe\">\n",
       "  <thead>\n",
       "    <tr style=\"text-align: right;\">\n",
       "      <th></th>\n",
       "      <th>seqname</th>\n",
       "      <th>source</th>\n",
       "      <th>feature</th>\n",
       "      <th>start</th>\n",
       "      <th>end</th>\n",
       "      <th>score</th>\n",
       "      <th>strand</th>\n",
       "      <th>frame</th>\n",
       "      <th>gene_biotype</th>\n",
       "      <th>gene_id</th>\n",
       "      <th>gene_name</th>\n",
       "      <th>gene_len</th>\n",
       "    </tr>\n",
       "  </thead>\n",
       "  <tbody>\n",
       "    <tr>\n",
       "      <th>0</th>\n",
       "      <td>GeneScaffold_506</td>\n",
       "      <td>ensembl</td>\n",
       "      <td>gene</td>\n",
       "      <td>17334</td>\n",
       "      <td>227368</td>\n",
       "      <td>.</td>\n",
       "      <td>-</td>\n",
       "      <td>.</td>\n",
       "      <td>protein_coding</td>\n",
       "      <td>ENSPVAG00000001290</td>\n",
       "      <td>TASP1</td>\n",
       "      <td>210034</td>\n",
       "    </tr>\n",
       "    <tr>\n",
       "      <th>1</th>\n",
       "      <td>GeneScaffold_506</td>\n",
       "      <td>ensembl</td>\n",
       "      <td>gene</td>\n",
       "      <td>287027</td>\n",
       "      <td>340620</td>\n",
       "      <td>.</td>\n",
       "      <td>-</td>\n",
       "      <td>.</td>\n",
       "      <td>protein_coding</td>\n",
       "      <td>ENSPVAG00000001295</td>\n",
       "      <td>ESF1</td>\n",
       "      <td>53593</td>\n",
       "    </tr>\n",
       "    <tr>\n",
       "      <th>2</th>\n",
       "      <td>GeneScaffold_506</td>\n",
       "      <td>ensembl</td>\n",
       "      <td>gene</td>\n",
       "      <td>342642</td>\n",
       "      <td>368918</td>\n",
       "      <td>.</td>\n",
       "      <td>+</td>\n",
       "      <td>.</td>\n",
       "      <td>protein_coding</td>\n",
       "      <td>ENSPVAG00000001297</td>\n",
       "      <td>NDUFAF5</td>\n",
       "      <td>26276</td>\n",
       "    </tr>\n",
       "    <tr>\n",
       "      <th>3</th>\n",
       "      <td>GeneScaffold_506</td>\n",
       "      <td>ensembl</td>\n",
       "      <td>gene</td>\n",
       "      <td>387362</td>\n",
       "      <td>497116</td>\n",
       "      <td>.</td>\n",
       "      <td>-</td>\n",
       "      <td>.</td>\n",
       "      <td>protein_coding</td>\n",
       "      <td>ENSPVAG00000001300</td>\n",
       "      <td>SEL1L2</td>\n",
       "      <td>109754</td>\n",
       "    </tr>\n",
       "    <tr>\n",
       "      <th>4</th>\n",
       "      <td>GeneScaffold_506</td>\n",
       "      <td>ensembl</td>\n",
       "      <td>gene</td>\n",
       "      <td>504253</td>\n",
       "      <td>1733319</td>\n",
       "      <td>.</td>\n",
       "      <td>+</td>\n",
       "      <td>.</td>\n",
       "      <td>protein_coding</td>\n",
       "      <td>ENSPVAG00000001303</td>\n",
       "      <td>MACROD2</td>\n",
       "      <td>1229066</td>\n",
       "    </tr>\n",
       "  </tbody>\n",
       "</table>\n",
       "</div>"
      ],
      "text/plain": [
       "            seqname   source feature   start      end score strand frame  \\\n",
       "0  GeneScaffold_506  ensembl    gene   17334   227368     .      -     .   \n",
       "1  GeneScaffold_506  ensembl    gene  287027   340620     .      -     .   \n",
       "2  GeneScaffold_506  ensembl    gene  342642   368918     .      +     .   \n",
       "3  GeneScaffold_506  ensembl    gene  387362   497116     .      -     .   \n",
       "4  GeneScaffold_506  ensembl    gene  504253  1733319     .      +     .   \n",
       "\n",
       "     gene_biotype             gene_id gene_name  gene_len  \n",
       "0  protein_coding  ENSPVAG00000001290     TASP1    210034  \n",
       "1  protein_coding  ENSPVAG00000001295      ESF1     53593  \n",
       "2  protein_coding  ENSPVAG00000001297   NDUFAF5     26276  \n",
       "3  protein_coding  ENSPVAG00000001300    SEL1L2    109754  \n",
       "4  protein_coding  ENSPVAG00000001303   MACROD2   1229066  "
      ]
     },
     "execution_count": 64,
     "metadata": {},
     "output_type": "execute_result"
    }
   ],
   "source": [
    "gene.head()"
   ]
  },
  {
   "cell_type": "code",
   "execution_count": 197,
   "metadata": {
    "collapsed": false
   },
   "outputs": [],
   "source": [
    "def printPandas( toPrint ):\n",
    "    print(toPrint.to_string(index=False), end='')\n",
    "    return   "
   ]
  },
  {
   "cell_type": "markdown",
   "metadata": {},
   "source": [
    "#### Nejdelší gen "
   ]
  },
  {
   "cell_type": "code",
   "execution_count": 203,
   "metadata": {
    "collapsed": false
   },
   "outputs": [
    {
     "name": "stdout",
     "output_type": "stream",
     "text": [
      "1623898; GeneScaffold_3874, protein_coding, DMD"
     ]
    }
   ],
   "source": [
    "max_Len = gene.loc[gene['gene_len'] == gene['gene_len'].max()]\n",
    "printPandas( max_Len['gene_len'])\n",
    "print('; ', end='')\n",
    "printPandas( max_Len['seqname'])\n",
    "print(', ', end='')\n",
    "printPandas( max_Len['gene_biotype'])\n",
    "print(', ', end='')\n",
    "printPandas( max_Len['gene_name'])\n",
    "\n"
   ]
  },
  {
   "cell_type": "markdown",
   "metadata": {},
   "source": [
    "DMD gen kóduje protein dystrofin, který v případě člověka představuje největší gen vůbec. Je umístěn na chromosomu X, jeho dědičnost je tedy vázaná na pohlaví. Mutace v DMD genu způsobuje Duchennovu muskulární dystrofii (odtud také odvozena zkratka DMD)."
   ]
  },
  {
   "cell_type": "markdown",
   "metadata": {},
   "source": [
    "#### Nejkratší gen "
   ]
  },
  {
   "cell_type": "code",
   "execution_count": 205,
   "metadata": {
    "collapsed": false
   },
   "outputs": [
    {
     "name": "stdout",
     "output_type": "stream",
     "text": [
      "23; scaffold_72526, protein_coding, NaN"
     ]
    }
   ],
   "source": [
    "min_Len = gene.loc[gene['gene_len'] == gene['gene_len'].min()]\n",
    "printPandas( min_Len['gene_len'])\n",
    "print('; ', end='')\n",
    "printPandas( min_Len['seqname'])\n",
    "print(', ', end='')\n",
    "printPandas( min_Len['gene_biotype'])\n",
    "print(', ', end='')\n",
    "printPandas( min_Len['gene_name'])"
   ]
  },
  {
   "cell_type": "markdown",
   "metadata": {},
   "source": [
    "### 3) Typy genů a jejich konkrétní počty"
   ]
  },
  {
   "cell_type": "code",
   "execution_count": 206,
   "metadata": {
    "collapsed": false
   },
   "outputs": [
    {
     "data": {
      "text/plain": [
       "protein_coding    16990\n",
       "rRNA               1901\n",
       "pseudogene         1033\n",
       "miRNA               846\n",
       "snRNA               644\n",
       "snoRNA              604\n",
       "misc_RNA            176\n",
       "Name: gene_biotype, dtype: int64"
      ]
     },
     "execution_count": 206,
     "metadata": {},
     "output_type": "execute_result"
    }
   ],
   "source": [
    "gene_type = gene[\"gene_biotype\"].value_counts()\n",
    "gene_type"
   ]
  },
  {
   "cell_type": "markdown",
   "metadata": {},
   "source": [
    "Ze zjištěných hodnot je patrné, že počet genů, které kódují protein, přibližně odpovídá předpokládanému počtu 16999."
   ]
  },
  {
   "cell_type": "code",
   "execution_count": 92,
   "metadata": {
    "collapsed": false
   },
   "outputs": [
    {
     "name": "stdout",
     "output_type": "stream",
     "text": [
      "Počet genů na + řetězci: 11183\n",
      "Počet genů na - řetězci: 11011\n"
     ]
    }
   ],
   "source": [
    "gene_strand = gene[\"strand\"].value_counts()\n",
    "print('Počet genů na + řetězci: ' , gene_strand[0], '\\n', 'Počet genů na - řetězci: ' , gene_strand[1], sep='' )"
   ]
  },
  {
   "cell_type": "markdown",
   "metadata": {},
   "source": [
    "### 4) Celkový počet transkriptů"
   ]
  },
  {
   "cell_type": "code",
   "execution_count": 100,
   "metadata": {
    "collapsed": false
   },
   "outputs": [
    {
     "name": "stdout",
     "output_type": "stream",
     "text": [
      "Celkový počet trankriptů je 22257, což odpovídá předpokládanému počtu.\n"
     ]
    }
   ],
   "source": [
    "print('Celkový počet trankriptů je ', len(transcript), ', což odpovídá předpokládanému počtu.', sep='')"
   ]
  },
  {
   "cell_type": "code",
   "execution_count": 128,
   "metadata": {
    "collapsed": false
   },
   "outputs": [
    {
     "data": {
      "text/plain": [
       "count    22194.000000\n",
       "mean         1.002839\n",
       "std          0.058835\n",
       "min          1.000000\n",
       "25%          1.000000\n",
       "50%          1.000000\n",
       "75%          1.000000\n",
       "max          3.000000\n",
       "Name: gene_id, dtype: float64"
      ]
     },
     "execution_count": 128,
     "metadata": {},
     "output_type": "execute_result"
    }
   ],
   "source": [
    "transcript[\"gene_id\"].value_counts().describe()"
   ]
  },
  {
   "cell_type": "markdown",
   "metadata": {},
   "source": [
    "Z výše uvedených hodnot je patrné, že maximální počet transkriptů na gen jsou 3, většinou však mají geny pouze 1 transkript. "
   ]
  },
  {
   "cell_type": "markdown",
   "metadata": {},
   "source": [
    "### 5) Typy transkriptů "
   ]
  },
  {
   "cell_type": "code",
   "execution_count": 96,
   "metadata": {
    "collapsed": false,
    "scrolled": true
   },
   "outputs": [
    {
     "data": {
      "text/plain": [
       "protein_coding    17053\n",
       "rRNA               1901\n",
       "pseudogene         1033\n",
       "miRNA               846\n",
       "snRNA               644\n",
       "snoRNA              604\n",
       "misc_RNA            176\n",
       "Name: transcript_biotype, dtype: int64"
      ]
     },
     "execution_count": 96,
     "metadata": {},
     "output_type": "execute_result"
    }
   ],
   "source": [
    "transcript_type = transcript[\"transcript_biotype\"].value_counts()\n",
    "transcript_type"
   ]
  },
  {
   "cell_type": "code",
   "execution_count": 97,
   "metadata": {
    "collapsed": false
   },
   "outputs": [
    {
     "name": "stdout",
     "output_type": "stream",
     "text": [
      "Počet transkriptů na + řetězci: 11219\n",
      "Počet transkriptů na - řetězci: 11038\n"
     ]
    }
   ],
   "source": [
    "transcript_strand = transcript[\"strand\"].value_counts()\n",
    "print('Počet transkriptů na + řetězci: ' , transcript_strand[0], '\\n', 'Počet transkriptů na - řetězci: ' , transcript_strand[1], sep='' )"
   ]
  },
  {
   "cell_type": "markdown",
   "metadata": {},
   "source": [
    "### 6) Počet chromosomů \n",
    "\n",
    "V tabulce nejsou chromosomy uvedeny, místo nich je manipulováno se \"scaffoldy\", které ve větším počtu či samostatně tvoří chromosom. "
   ]
  },
  {
   "cell_type": "code",
   "execution_count": 108,
   "metadata": {
    "collapsed": false
   },
   "outputs": [
    {
     "name": "stdout",
     "output_type": "stream",
     "text": [
      "Nejčastěji se vyskytující scaffoldy: \n",
      "\n",
      "GeneScaffold_2976    50\n",
      "GeneScaffold_2550    49\n",
      "GeneScaffold_2543    44\n",
      "scaffold_4524        41\n",
      "GeneScaffold_1015    40\n",
      "Name: seqname, dtype: int64\n"
     ]
    }
   ],
   "source": [
    "print('Nejčastěji se vyskytující scaffoldy: ', '\\n', '\\n', gene[\"seqname\"].value_counts().head(), sep = '') \n"
   ]
  },
  {
   "cell_type": "markdown",
   "metadata": {},
   "source": [
    "### Graf č. 1: Zastoupení jednotlivých typů genů "
   ]
  },
  {
   "cell_type": "code",
   "execution_count": 125,
   "metadata": {
    "collapsed": false
   },
   "outputs": [
    {
     "data": {
      "image/png": "[encoded data removed]",
      "text/plain": [
       "<matplotlib.figure.Figure at 0x7f511e5b6a20>"
      ]
     },
     "metadata": {},
     "output_type": "display_data"
    }
   ],
   "source": [
    "y_pos = numpy.arange(7)\n",
    "matplotlib.pyplot.bar(y_pos, gene_type,align='center', alpha=1, color='#3d0151') \n",
    "matplotlib.pyplot.xticks(y_pos, [\"protein coding\",\"rRNA\",\"pseudogenes\",\"miRNA\",\"snRNA\",\"snoRNA\",\"misc RNA\"])\n",
    "matplotlib.pyplot.ylabel('Množství genů')\n",
    "matplotlib.pyplot.xlabel(\"Typy genů\")\n",
    "matplotlib.pyplot.title('Zastoupení jednotlivých typů genů')\n",
    "for ax in matplotlib.pyplot.gcf().axes:\n",
    "    matplotlib.pyplot.sca(ax)\n",
    "    matplotlib.pyplot.xticks(ax.get_xticks(), rotation=90)\n",
    "matplotlib.pyplot.show()"
   ]
  },
  {
   "cell_type": "markdown",
   "metadata": {},
   "source": [
    "### Graf č. 2: Zastoupení jednotlivých typů transkriptů"
   ]
  },
  {
   "cell_type": "code",
   "execution_count": 127,
   "metadata": {
    "collapsed": false
   },
   "outputs": [
    {
     "data": {
      "image/png": "[encoded data removed]",
      "text/plain": [
       "<matplotlib.figure.Figure at 0x7f51216f0128>"
      ]
     },
     "metadata": {},
     "output_type": "display_data"
    }
   ],
   "source": [
    "y_pos = numpy.arange(7)\n",
    "matplotlib.pyplot.bar(y_pos, transcript_type,align='center', alpha=1, color='#3d0151') \n",
    "matplotlib.pyplot.xticks(y_pos, [\"protein coding\",\"rRNA\",\"pseudogenes\",\"miRNA\",\"snRNA\",\"snoRNA\",\"misc RNA\"])\n",
    "matplotlib.pyplot.ylabel('Množství transkriptů')\n",
    "matplotlib.pyplot.xlabel(\"Typy transkriptů\")\n",
    "matplotlib.pyplot.title('Zastoupení jednotlivých typů transkriptů')\n",
    "for ax in matplotlib.pyplot.gcf().axes:\n",
    "    matplotlib.pyplot.sca(ax)\n",
    "    matplotlib.pyplot.xticks(ax.get_xticks(), rotation=90)\n",
    "matplotlib.pyplot.show()"
   ]
  },
  {
   "cell_type": "code",
   "execution_count": null,
   "metadata": {
    "collapsed": false
   },
   "outputs": [],
   "source": [
    "\n"
   ]
  },
  {
   "cell_type": "code",
   "execution_count": null,
   "metadata": {
    "collapsed": true
   },
   "outputs": [],
   "source": []
  }
 ],
 "metadata": {
  "kernelspec": {
   "display_name": "Python 3",
   "language": "python",
   "name": "python3"
  },
  "language_info": {
   "codemirror_mode": {
    "name": "ipython",
    "version": 3
   },
   "file_extension": ".py",
   "mimetype": "text/x-python",
   "name": "python",
   "nbconvert_exporter": "python",
   "pygments_lexer": "ipython3",
   "version": "3.4.2"
  }
 },
 "nbformat": 4,
 "nbformat_minor": 1
}
